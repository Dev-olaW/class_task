{
 "cells": [
  {
   "cell_type": "code",
   "execution_count": 211,
   "id": "45ce82c2",
   "metadata": {},
   "outputs": [],
   "source": [
    "import numpy as np\n",
    "import pandas as pd\n",
    "import matplotlib.pyplot as plt\n",
    "import warnings"
   ]
  },
  {
   "cell_type": "markdown",
   "id": "6688888c",
   "metadata": {},
   "source": [
    "##### 1. Data Injection"
   ]
  },
  {
   "cell_type": "code",
   "execution_count": 212,
   "id": "3806467e",
   "metadata": {},
   "outputs": [],
   "source": [
    "possium = pd.read_csv(\"possum.csv\")\n",
    "\n",
    "# The data has been injected succesfully"
   ]
  },
  {
   "cell_type": "markdown",
   "id": "9ecf16b7",
   "metadata": {},
   "source": [
    "##### 2. PDA (Preliminary Data Analysis)\n",
    "\n",
    "##### It consists of Data Structure, the type, head, shape....."
   ]
  },
  {
   "cell_type": "code",
   "execution_count": 213,
   "id": "da5a2de0",
   "metadata": {},
   "outputs": [
    {
     "data": {
      "text/html": [
       "<div>\n",
       "<style scoped>\n",
       "    .dataframe tbody tr th:only-of-type {\n",
       "        vertical-align: middle;\n",
       "    }\n",
       "\n",
       "    .dataframe tbody tr th {\n",
       "        vertical-align: top;\n",
       "    }\n",
       "\n",
       "    .dataframe thead th {\n",
       "        text-align: right;\n",
       "    }\n",
       "</style>\n",
       "<table border=\"1\" class=\"dataframe\">\n",
       "  <thead>\n",
       "    <tr style=\"text-align: right;\">\n",
       "      <th></th>\n",
       "      <th>case</th>\n",
       "      <th>site</th>\n",
       "      <th>Pop</th>\n",
       "      <th>sex</th>\n",
       "      <th>age</th>\n",
       "      <th>hdlngth</th>\n",
       "      <th>skullw</th>\n",
       "      <th>totlngth</th>\n",
       "      <th>taill</th>\n",
       "      <th>footlgth</th>\n",
       "      <th>earconch</th>\n",
       "      <th>eye</th>\n",
       "      <th>chest</th>\n",
       "      <th>belly</th>\n",
       "    </tr>\n",
       "  </thead>\n",
       "  <tbody>\n",
       "    <tr>\n",
       "      <th>0</th>\n",
       "      <td>1</td>\n",
       "      <td>1</td>\n",
       "      <td>Vic</td>\n",
       "      <td>m</td>\n",
       "      <td>8.0000</td>\n",
       "      <td>94.1000</td>\n",
       "      <td>60.4000</td>\n",
       "      <td>89.0000</td>\n",
       "      <td>36.0000</td>\n",
       "      <td>74.5000</td>\n",
       "      <td>54.5000</td>\n",
       "      <td>15.2000</td>\n",
       "      <td>28.0000</td>\n",
       "      <td>36.0000</td>\n",
       "    </tr>\n",
       "    <tr>\n",
       "      <th>1</th>\n",
       "      <td>2</td>\n",
       "      <td>1</td>\n",
       "      <td>Vic</td>\n",
       "      <td>f</td>\n",
       "      <td>6.0000</td>\n",
       "      <td>92.5000</td>\n",
       "      <td>57.6000</td>\n",
       "      <td>91.5000</td>\n",
       "      <td>36.5000</td>\n",
       "      <td>72.5000</td>\n",
       "      <td>51.2000</td>\n",
       "      <td>16.0000</td>\n",
       "      <td>28.5000</td>\n",
       "      <td>33.0000</td>\n",
       "    </tr>\n",
       "    <tr>\n",
       "      <th>2</th>\n",
       "      <td>3</td>\n",
       "      <td>1</td>\n",
       "      <td>Vic</td>\n",
       "      <td>f</td>\n",
       "      <td>6.0000</td>\n",
       "      <td>94.0000</td>\n",
       "      <td>60.0000</td>\n",
       "      <td>95.5000</td>\n",
       "      <td>39.0000</td>\n",
       "      <td>75.4000</td>\n",
       "      <td>51.9000</td>\n",
       "      <td>15.5000</td>\n",
       "      <td>30.0000</td>\n",
       "      <td>34.0000</td>\n",
       "    </tr>\n",
       "    <tr>\n",
       "      <th>3</th>\n",
       "      <td>4</td>\n",
       "      <td>1</td>\n",
       "      <td>Vic</td>\n",
       "      <td>f</td>\n",
       "      <td>6.0000</td>\n",
       "      <td>93.2000</td>\n",
       "      <td>57.1000</td>\n",
       "      <td>92.0000</td>\n",
       "      <td>38.0000</td>\n",
       "      <td>76.1000</td>\n",
       "      <td>52.2000</td>\n",
       "      <td>15.2000</td>\n",
       "      <td>28.0000</td>\n",
       "      <td>34.0000</td>\n",
       "    </tr>\n",
       "    <tr>\n",
       "      <th>4</th>\n",
       "      <td>5</td>\n",
       "      <td>1</td>\n",
       "      <td>Vic</td>\n",
       "      <td>f</td>\n",
       "      <td>2.0000</td>\n",
       "      <td>91.5000</td>\n",
       "      <td>56.3000</td>\n",
       "      <td>85.5000</td>\n",
       "      <td>36.0000</td>\n",
       "      <td>71.0000</td>\n",
       "      <td>53.2000</td>\n",
       "      <td>15.1000</td>\n",
       "      <td>28.5000</td>\n",
       "      <td>33.0000</td>\n",
       "    </tr>\n",
       "  </tbody>\n",
       "</table>\n",
       "</div>"
      ],
      "text/plain": [
       "   case  site  Pop sex    age  hdlngth  skullw  totlngth   taill  footlgth  \\\n",
       "0     1     1  Vic   m 8.0000  94.1000 60.4000   89.0000 36.0000   74.5000   \n",
       "1     2     1  Vic   f 6.0000  92.5000 57.6000   91.5000 36.5000   72.5000   \n",
       "2     3     1  Vic   f 6.0000  94.0000 60.0000   95.5000 39.0000   75.4000   \n",
       "3     4     1  Vic   f 6.0000  93.2000 57.1000   92.0000 38.0000   76.1000   \n",
       "4     5     1  Vic   f 2.0000  91.5000 56.3000   85.5000 36.0000   71.0000   \n",
       "\n",
       "   earconch     eye   chest   belly  \n",
       "0   54.5000 15.2000 28.0000 36.0000  \n",
       "1   51.2000 16.0000 28.5000 33.0000  \n",
       "2   51.9000 15.5000 30.0000 34.0000  \n",
       "3   52.2000 15.2000 28.0000 34.0000  \n",
       "4   53.2000 15.1000 28.5000 33.0000  "
      ]
     },
     "execution_count": 213,
     "metadata": {},
     "output_type": "execute_result"
    }
   ],
   "source": [
    "possium.head()"
   ]
  },
  {
   "cell_type": "code",
   "execution_count": 214,
   "id": "70446d2e",
   "metadata": {},
   "outputs": [
    {
     "data": {
      "text/html": [
       "<div>\n",
       "<style scoped>\n",
       "    .dataframe tbody tr th:only-of-type {\n",
       "        vertical-align: middle;\n",
       "    }\n",
       "\n",
       "    .dataframe tbody tr th {\n",
       "        vertical-align: top;\n",
       "    }\n",
       "\n",
       "    .dataframe thead th {\n",
       "        text-align: right;\n",
       "    }\n",
       "</style>\n",
       "<table border=\"1\" class=\"dataframe\">\n",
       "  <thead>\n",
       "    <tr style=\"text-align: right;\">\n",
       "      <th></th>\n",
       "      <th>case</th>\n",
       "      <th>site</th>\n",
       "      <th>Pop</th>\n",
       "      <th>sex</th>\n",
       "      <th>age</th>\n",
       "      <th>hdlngth</th>\n",
       "      <th>skullw</th>\n",
       "      <th>totlngth</th>\n",
       "      <th>taill</th>\n",
       "      <th>footlgth</th>\n",
       "      <th>earconch</th>\n",
       "      <th>eye</th>\n",
       "      <th>chest</th>\n",
       "      <th>belly</th>\n",
       "    </tr>\n",
       "  </thead>\n",
       "  <tbody>\n",
       "    <tr>\n",
       "      <th>99</th>\n",
       "      <td>100</td>\n",
       "      <td>7</td>\n",
       "      <td>other</td>\n",
       "      <td>m</td>\n",
       "      <td>1.0000</td>\n",
       "      <td>89.5000</td>\n",
       "      <td>56.0000</td>\n",
       "      <td>81.5000</td>\n",
       "      <td>36.5000</td>\n",
       "      <td>66.0000</td>\n",
       "      <td>46.8000</td>\n",
       "      <td>14.8000</td>\n",
       "      <td>23.0000</td>\n",
       "      <td>27.0000</td>\n",
       "    </tr>\n",
       "    <tr>\n",
       "      <th>100</th>\n",
       "      <td>101</td>\n",
       "      <td>7</td>\n",
       "      <td>other</td>\n",
       "      <td>m</td>\n",
       "      <td>1.0000</td>\n",
       "      <td>88.6000</td>\n",
       "      <td>54.7000</td>\n",
       "      <td>82.5000</td>\n",
       "      <td>39.0000</td>\n",
       "      <td>64.4000</td>\n",
       "      <td>48.0000</td>\n",
       "      <td>14.0000</td>\n",
       "      <td>25.0000</td>\n",
       "      <td>33.0000</td>\n",
       "    </tr>\n",
       "    <tr>\n",
       "      <th>101</th>\n",
       "      <td>102</td>\n",
       "      <td>7</td>\n",
       "      <td>other</td>\n",
       "      <td>f</td>\n",
       "      <td>6.0000</td>\n",
       "      <td>92.4000</td>\n",
       "      <td>55.0000</td>\n",
       "      <td>89.0000</td>\n",
       "      <td>38.0000</td>\n",
       "      <td>63.5000</td>\n",
       "      <td>45.4000</td>\n",
       "      <td>13.0000</td>\n",
       "      <td>25.0000</td>\n",
       "      <td>30.0000</td>\n",
       "    </tr>\n",
       "    <tr>\n",
       "      <th>102</th>\n",
       "      <td>103</td>\n",
       "      <td>7</td>\n",
       "      <td>other</td>\n",
       "      <td>m</td>\n",
       "      <td>4.0000</td>\n",
       "      <td>91.5000</td>\n",
       "      <td>55.2000</td>\n",
       "      <td>82.5000</td>\n",
       "      <td>36.5000</td>\n",
       "      <td>62.9000</td>\n",
       "      <td>45.9000</td>\n",
       "      <td>15.4000</td>\n",
       "      <td>25.0000</td>\n",
       "      <td>29.0000</td>\n",
       "    </tr>\n",
       "    <tr>\n",
       "      <th>103</th>\n",
       "      <td>104</td>\n",
       "      <td>7</td>\n",
       "      <td>other</td>\n",
       "      <td>f</td>\n",
       "      <td>3.0000</td>\n",
       "      <td>93.6000</td>\n",
       "      <td>59.9000</td>\n",
       "      <td>89.0000</td>\n",
       "      <td>40.0000</td>\n",
       "      <td>67.6000</td>\n",
       "      <td>46.0000</td>\n",
       "      <td>14.8000</td>\n",
       "      <td>28.5000</td>\n",
       "      <td>33.5000</td>\n",
       "    </tr>\n",
       "  </tbody>\n",
       "</table>\n",
       "</div>"
      ],
      "text/plain": [
       "     case  site    Pop sex    age  hdlngth  skullw  totlngth   taill  \\\n",
       "99    100     7  other   m 1.0000  89.5000 56.0000   81.5000 36.5000   \n",
       "100   101     7  other   m 1.0000  88.6000 54.7000   82.5000 39.0000   \n",
       "101   102     7  other   f 6.0000  92.4000 55.0000   89.0000 38.0000   \n",
       "102   103     7  other   m 4.0000  91.5000 55.2000   82.5000 36.5000   \n",
       "103   104     7  other   f 3.0000  93.6000 59.9000   89.0000 40.0000   \n",
       "\n",
       "     footlgth  earconch     eye   chest   belly  \n",
       "99    66.0000   46.8000 14.8000 23.0000 27.0000  \n",
       "100   64.4000   48.0000 14.0000 25.0000 33.0000  \n",
       "101   63.5000   45.4000 13.0000 25.0000 30.0000  \n",
       "102   62.9000   45.9000 15.4000 25.0000 29.0000  \n",
       "103   67.6000   46.0000 14.8000 28.5000 33.5000  "
      ]
     },
     "execution_count": 214,
     "metadata": {},
     "output_type": "execute_result"
    }
   ],
   "source": [
    "possium.tail()"
   ]
  },
  {
   "cell_type": "code",
   "execution_count": 215,
   "id": "ec2f70e4",
   "metadata": {},
   "outputs": [
    {
     "data": {
      "text/plain": [
       "(104, 14)"
      ]
     },
     "execution_count": 215,
     "metadata": {},
     "output_type": "execute_result"
    }
   ],
   "source": [
    "possium.shape"
   ]
  },
  {
   "cell_type": "code",
   "execution_count": 216,
   "id": "f7398d1a",
   "metadata": {},
   "outputs": [
    {
     "name": "stdout",
     "output_type": "stream",
     "text": [
      "<class 'pandas.core.frame.DataFrame'>\n",
      "RangeIndex: 104 entries, 0 to 103\n",
      "Data columns (total 14 columns):\n",
      " #   Column    Non-Null Count  Dtype  \n",
      "---  ------    --------------  -----  \n",
      " 0   case      104 non-null    int64  \n",
      " 1   site      104 non-null    int64  \n",
      " 2   Pop       104 non-null    object \n",
      " 3   sex       104 non-null    object \n",
      " 4   age       102 non-null    float64\n",
      " 5   hdlngth   104 non-null    float64\n",
      " 6   skullw    104 non-null    float64\n",
      " 7   totlngth  104 non-null    float64\n",
      " 8   taill     104 non-null    float64\n",
      " 9   footlgth  103 non-null    float64\n",
      " 10  earconch  104 non-null    float64\n",
      " 11  eye       104 non-null    float64\n",
      " 12  chest     104 non-null    float64\n",
      " 13  belly     104 non-null    float64\n",
      "dtypes: float64(10), int64(2), object(2)\n",
      "memory usage: 11.5+ KB\n"
     ]
    }
   ],
   "source": [
    "possium.info()"
   ]
  },
  {
   "cell_type": "markdown",
   "id": "a7763939",
   "metadata": {},
   "source": [
    "The possium data consists of 104 entries, (0-103) rows, 14 columns "
   ]
  },
  {
   "cell_type": "code",
   "execution_count": 217,
   "id": "bea78da9",
   "metadata": {},
   "outputs": [
    {
     "data": {
      "text/plain": [
       "case        0\n",
       "site        0\n",
       "Pop         0\n",
       "sex         0\n",
       "age         2\n",
       "hdlngth     0\n",
       "skullw      0\n",
       "totlngth    0\n",
       "taill       0\n",
       "footlgth    1\n",
       "earconch    0\n",
       "eye         0\n",
       "chest       0\n",
       "belly       0\n",
       "dtype: int64"
      ]
     },
     "execution_count": 217,
     "metadata": {},
     "output_type": "execute_result"
    }
   ],
   "source": [
    "### missing values\n",
    "possium.isna().sum()"
   ]
  },
  {
   "cell_type": "markdown",
   "id": "629e7e69",
   "metadata": {},
   "source": [
    "There are 2 missing values in the data-age column, and 1n missing value in the data-footlgth column"
   ]
  },
  {
   "cell_type": "code",
   "execution_count": 218,
   "id": "2d748f51",
   "metadata": {},
   "outputs": [
    {
     "data": {
      "text/html": [
       "<div>\n",
       "<style scoped>\n",
       "    .dataframe tbody tr th:only-of-type {\n",
       "        vertical-align: middle;\n",
       "    }\n",
       "\n",
       "    .dataframe tbody tr th {\n",
       "        vertical-align: top;\n",
       "    }\n",
       "\n",
       "    .dataframe thead th {\n",
       "        text-align: right;\n",
       "    }\n",
       "</style>\n",
       "<table border=\"1\" class=\"dataframe\">\n",
       "  <thead>\n",
       "    <tr style=\"text-align: right;\">\n",
       "      <th></th>\n",
       "      <th>case</th>\n",
       "      <th>site</th>\n",
       "      <th>age</th>\n",
       "      <th>hdlngth</th>\n",
       "      <th>skullw</th>\n",
       "      <th>totlngth</th>\n",
       "      <th>taill</th>\n",
       "      <th>footlgth</th>\n",
       "      <th>earconch</th>\n",
       "      <th>eye</th>\n",
       "      <th>chest</th>\n",
       "      <th>belly</th>\n",
       "    </tr>\n",
       "  </thead>\n",
       "  <tbody>\n",
       "    <tr>\n",
       "      <th>count</th>\n",
       "      <td>104.0000</td>\n",
       "      <td>104.0000</td>\n",
       "      <td>102.0000</td>\n",
       "      <td>104.0000</td>\n",
       "      <td>104.0000</td>\n",
       "      <td>104.0000</td>\n",
       "      <td>104.0000</td>\n",
       "      <td>103.0000</td>\n",
       "      <td>104.0000</td>\n",
       "      <td>104.0000</td>\n",
       "      <td>104.0000</td>\n",
       "      <td>104.0000</td>\n",
       "    </tr>\n",
       "    <tr>\n",
       "      <th>mean</th>\n",
       "      <td>52.5000</td>\n",
       "      <td>3.6250</td>\n",
       "      <td>3.8333</td>\n",
       "      <td>92.6029</td>\n",
       "      <td>56.8837</td>\n",
       "      <td>87.0885</td>\n",
       "      <td>37.0096</td>\n",
       "      <td>68.4592</td>\n",
       "      <td>48.1308</td>\n",
       "      <td>15.0462</td>\n",
       "      <td>27.0000</td>\n",
       "      <td>32.5865</td>\n",
       "    </tr>\n",
       "    <tr>\n",
       "      <th>std</th>\n",
       "      <td>30.1662</td>\n",
       "      <td>2.3491</td>\n",
       "      <td>1.9092</td>\n",
       "      <td>3.5733</td>\n",
       "      <td>3.1134</td>\n",
       "      <td>4.3105</td>\n",
       "      <td>1.9595</td>\n",
       "      <td>4.3953</td>\n",
       "      <td>4.1094</td>\n",
       "      <td>1.0504</td>\n",
       "      <td>2.0456</td>\n",
       "      <td>2.7619</td>\n",
       "    </tr>\n",
       "    <tr>\n",
       "      <th>min</th>\n",
       "      <td>1.0000</td>\n",
       "      <td>1.0000</td>\n",
       "      <td>1.0000</td>\n",
       "      <td>82.5000</td>\n",
       "      <td>50.0000</td>\n",
       "      <td>75.0000</td>\n",
       "      <td>32.0000</td>\n",
       "      <td>60.3000</td>\n",
       "      <td>40.3000</td>\n",
       "      <td>12.8000</td>\n",
       "      <td>22.0000</td>\n",
       "      <td>25.0000</td>\n",
       "    </tr>\n",
       "    <tr>\n",
       "      <th>25%</th>\n",
       "      <td>26.7500</td>\n",
       "      <td>1.0000</td>\n",
       "      <td>2.2500</td>\n",
       "      <td>90.6750</td>\n",
       "      <td>54.9750</td>\n",
       "      <td>84.0000</td>\n",
       "      <td>35.8750</td>\n",
       "      <td>64.6000</td>\n",
       "      <td>44.8000</td>\n",
       "      <td>14.4000</td>\n",
       "      <td>25.5000</td>\n",
       "      <td>31.0000</td>\n",
       "    </tr>\n",
       "    <tr>\n",
       "      <th>50%</th>\n",
       "      <td>52.5000</td>\n",
       "      <td>3.0000</td>\n",
       "      <td>3.0000</td>\n",
       "      <td>92.8000</td>\n",
       "      <td>56.3500</td>\n",
       "      <td>88.0000</td>\n",
       "      <td>37.0000</td>\n",
       "      <td>68.0000</td>\n",
       "      <td>46.8000</td>\n",
       "      <td>14.9000</td>\n",
       "      <td>27.0000</td>\n",
       "      <td>32.5000</td>\n",
       "    </tr>\n",
       "    <tr>\n",
       "      <th>75%</th>\n",
       "      <td>78.2500</td>\n",
       "      <td>6.0000</td>\n",
       "      <td>5.0000</td>\n",
       "      <td>94.7250</td>\n",
       "      <td>58.1000</td>\n",
       "      <td>90.0000</td>\n",
       "      <td>38.0000</td>\n",
       "      <td>72.5000</td>\n",
       "      <td>52.0000</td>\n",
       "      <td>15.7250</td>\n",
       "      <td>28.0000</td>\n",
       "      <td>34.1250</td>\n",
       "    </tr>\n",
       "    <tr>\n",
       "      <th>max</th>\n",
       "      <td>104.0000</td>\n",
       "      <td>7.0000</td>\n",
       "      <td>9.0000</td>\n",
       "      <td>103.1000</td>\n",
       "      <td>68.6000</td>\n",
       "      <td>96.5000</td>\n",
       "      <td>43.0000</td>\n",
       "      <td>77.9000</td>\n",
       "      <td>56.2000</td>\n",
       "      <td>17.8000</td>\n",
       "      <td>32.0000</td>\n",
       "      <td>40.0000</td>\n",
       "    </tr>\n",
       "  </tbody>\n",
       "</table>\n",
       "</div>"
      ],
      "text/plain": [
       "          case     site      age  hdlngth   skullw  totlngth    taill  \\\n",
       "count 104.0000 104.0000 102.0000 104.0000 104.0000  104.0000 104.0000   \n",
       "mean   52.5000   3.6250   3.8333  92.6029  56.8837   87.0885  37.0096   \n",
       "std    30.1662   2.3491   1.9092   3.5733   3.1134    4.3105   1.9595   \n",
       "min     1.0000   1.0000   1.0000  82.5000  50.0000   75.0000  32.0000   \n",
       "25%    26.7500   1.0000   2.2500  90.6750  54.9750   84.0000  35.8750   \n",
       "50%    52.5000   3.0000   3.0000  92.8000  56.3500   88.0000  37.0000   \n",
       "75%    78.2500   6.0000   5.0000  94.7250  58.1000   90.0000  38.0000   \n",
       "max   104.0000   7.0000   9.0000 103.1000  68.6000   96.5000  43.0000   \n",
       "\n",
       "       footlgth  earconch      eye    chest    belly  \n",
       "count  103.0000  104.0000 104.0000 104.0000 104.0000  \n",
       "mean    68.4592   48.1308  15.0462  27.0000  32.5865  \n",
       "std      4.3953    4.1094   1.0504   2.0456   2.7619  \n",
       "min     60.3000   40.3000  12.8000  22.0000  25.0000  \n",
       "25%     64.6000   44.8000  14.4000  25.5000  31.0000  \n",
       "50%     68.0000   46.8000  14.9000  27.0000  32.5000  \n",
       "75%     72.5000   52.0000  15.7250  28.0000  34.1250  \n",
       "max     77.9000   56.2000  17.8000  32.0000  40.0000  "
      ]
     },
     "execution_count": 218,
     "metadata": {},
     "output_type": "execute_result"
    }
   ],
   "source": [
    "### descriptive statisics\n",
    "possium.describe()"
   ]
  },
  {
   "cell_type": "code",
   "execution_count": 219,
   "id": "b49ac747",
   "metadata": {},
   "outputs": [
    {
     "data": {
      "text/plain": [
       "np.int64(0)"
      ]
     },
     "execution_count": 219,
     "metadata": {},
     "output_type": "execute_result"
    }
   ],
   "source": [
    "### for duplicate\n",
    "possium.duplicated().sum()"
   ]
  },
  {
   "cell_type": "code",
   "execution_count": 220,
   "id": "1a655ff4",
   "metadata": {},
   "outputs": [
    {
     "data": {
      "text/plain": [
       "sex\n",
       "m    61\n",
       "f    43\n",
       "Name: count, dtype: int64"
      ]
     },
     "execution_count": 220,
     "metadata": {},
     "output_type": "execute_result"
    }
   ],
   "source": [
    "possium.sex.value_counts()"
   ]
  },
  {
   "cell_type": "code",
   "execution_count": 221,
   "id": "a28cc527",
   "metadata": {},
   "outputs": [
    {
     "data": {
      "text/plain": [
       "Index(['case', 'site', 'Pop', 'sex', 'age', 'hdlngth', 'skullw', 'totlngth',\n",
       "       'taill', 'footlgth', 'earconch', 'eye', 'chest', 'belly'],\n",
       "      dtype='object')"
      ]
     },
     "execution_count": 221,
     "metadata": {},
     "output_type": "execute_result"
    }
   ],
   "source": [
    "possium.columns"
   ]
  },
  {
   "cell_type": "code",
   "execution_count": 222,
   "id": "c8149f76",
   "metadata": {},
   "outputs": [
    {
     "data": {
      "text/plain": [
       "case        104\n",
       "site          7\n",
       "Pop           2\n",
       "sex           2\n",
       "age           9\n",
       "hdlngth      71\n",
       "skullw       64\n",
       "totlngth     34\n",
       "taill        19\n",
       "footlgth     75\n",
       "earconch     69\n",
       "eye          35\n",
       "chest        19\n",
       "belly        24\n",
       "dtype: int64"
      ]
     },
     "execution_count": 222,
     "metadata": {},
     "output_type": "execute_result"
    }
   ],
   "source": [
    "possium.nunique()"
   ]
  },
  {
   "cell_type": "code",
   "execution_count": 223,
   "id": "c468a93a",
   "metadata": {},
   "outputs": [
    {
     "data": {
      "text/plain": [
       "<Axes: >"
      ]
     },
     "execution_count": 223,
     "metadata": {},
     "output_type": "execute_result"
    },
    {
     "data": {
      "image/png": "[encoded data removed]",
      "text/plain": [
       "<Figure size 640x480 with 1 Axes>"
      ]
     },
     "metadata": {},
     "output_type": "display_data"
    }
   ],
   "source": [
    "possium.nunique().sort_values(ascending= False).plot(kind='bar')"
   ]
  },
  {
   "cell_type": "code",
   "execution_count": 224,
   "id": "e7266634",
   "metadata": {},
   "outputs": [
    {
     "data": {
      "text/plain": [
       "age\n",
       "3.0000    27\n",
       "2.0000    16\n",
       "4.0000    14\n",
       "5.0000    13\n",
       "6.0000    12\n",
       "1.0000    10\n",
       "7.0000     7\n",
       "9.0000     2\n",
       "8.0000     1\n",
       "Name: count, dtype: int64"
      ]
     },
     "execution_count": 224,
     "metadata": {},
     "output_type": "execute_result"
    }
   ],
   "source": [
    "possium['age'].value_counts()"
   ]
  },
  {
   "cell_type": "markdown",
   "id": "eef0d578",
   "metadata": {},
   "source": [
    "##### 3. Cleaning"
   ]
  },
  {
   "cell_type": "code",
   "execution_count": null,
   "id": "5e199967",
   "metadata": {},
   "outputs": [],
   "source": [
    "# Fill missing value\n",
    "possium['age'].fillna(possium['age'].mean(), inplace= True)\n",
    "possium.isna().sum()"
   ]
  },
  {
   "cell_type": "code",
   "execution_count": 226,
   "id": "090a79d4",
   "metadata": {},
   "outputs": [],
   "source": [
    "possium.fillna({'footlgth': 75.4}, inplace=True)"
   ]
  },
  {
   "cell_type": "code",
   "execution_count": 263,
   "id": "95a8ca2a",
   "metadata": {},
   "outputs": [
    {
     "data": {
      "text/plain": [
       "case        0\n",
       "site        0\n",
       "Pop         0\n",
       "sex         0\n",
       "age         0\n",
       "hdlngth     0\n",
       "skullw      0\n",
       "totlngth    0\n",
       "taill       0\n",
       "footlgth    0\n",
       "earconch    0\n",
       "eye         0\n",
       "chest       0\n",
       "belly       0\n",
       "dtype: int64"
      ]
     },
     "execution_count": 263,
     "metadata": {},
     "output_type": "execute_result"
    }
   ],
   "source": [
    "possium.isna().sum()"
   ]
  },
  {
   "cell_type": "markdown",
   "id": "e4823fe3",
   "metadata": {},
   "source": [
    "#### 4. DDA. Descriptive Data Analysis"
   ]
  },
  {
   "cell_type": "markdown",
   "id": "bcdca8c4",
   "metadata": {},
   "source": [
    "#### MEASURE OF CENTRE AND SPREAD"
   ]
  },
  {
   "cell_type": "code",
   "execution_count": 228,
   "id": "cc5fa68d",
   "metadata": {},
   "outputs": [
    {
     "data": {
      "text/html": [
       "<div>\n",
       "<style scoped>\n",
       "    .dataframe tbody tr th:only-of-type {\n",
       "        vertical-align: middle;\n",
       "    }\n",
       "\n",
       "    .dataframe tbody tr th {\n",
       "        vertical-align: top;\n",
       "    }\n",
       "\n",
       "    .dataframe thead th {\n",
       "        text-align: right;\n",
       "    }\n",
       "</style>\n",
       "<table border=\"1\" class=\"dataframe\">\n",
       "  <thead>\n",
       "    <tr style=\"text-align: right;\">\n",
       "      <th></th>\n",
       "      <th>case</th>\n",
       "      <th>site</th>\n",
       "      <th>age</th>\n",
       "      <th>hdlngth</th>\n",
       "      <th>skullw</th>\n",
       "      <th>totlngth</th>\n",
       "      <th>taill</th>\n",
       "      <th>footlgth</th>\n",
       "      <th>earconch</th>\n",
       "      <th>eye</th>\n",
       "      <th>chest</th>\n",
       "      <th>belly</th>\n",
       "    </tr>\n",
       "  </thead>\n",
       "  <tbody>\n",
       "    <tr>\n",
       "      <th>count</th>\n",
       "      <td>104.0000</td>\n",
       "      <td>104.0000</td>\n",
       "      <td>104.0000</td>\n",
       "      <td>104.0000</td>\n",
       "      <td>104.0000</td>\n",
       "      <td>104.0000</td>\n",
       "      <td>104.0000</td>\n",
       "      <td>104.0000</td>\n",
       "      <td>104.0000</td>\n",
       "      <td>104.0000</td>\n",
       "      <td>104.0000</td>\n",
       "      <td>104.0000</td>\n",
       "    </tr>\n",
       "    <tr>\n",
       "      <th>mean</th>\n",
       "      <td>52.5000</td>\n",
       "      <td>3.6000</td>\n",
       "      <td>3.8000</td>\n",
       "      <td>92.6000</td>\n",
       "      <td>56.9000</td>\n",
       "      <td>87.1000</td>\n",
       "      <td>37.0000</td>\n",
       "      <td>68.5000</td>\n",
       "      <td>48.1000</td>\n",
       "      <td>15.0000</td>\n",
       "      <td>27.0000</td>\n",
       "      <td>32.6000</td>\n",
       "    </tr>\n",
       "    <tr>\n",
       "      <th>std</th>\n",
       "      <td>30.2000</td>\n",
       "      <td>2.3000</td>\n",
       "      <td>1.9000</td>\n",
       "      <td>3.6000</td>\n",
       "      <td>3.1000</td>\n",
       "      <td>4.3000</td>\n",
       "      <td>2.0000</td>\n",
       "      <td>4.4000</td>\n",
       "      <td>4.1000</td>\n",
       "      <td>1.1000</td>\n",
       "      <td>2.0000</td>\n",
       "      <td>2.8000</td>\n",
       "    </tr>\n",
       "    <tr>\n",
       "      <th>min</th>\n",
       "      <td>1.0000</td>\n",
       "      <td>1.0000</td>\n",
       "      <td>1.0000</td>\n",
       "      <td>82.5000</td>\n",
       "      <td>50.0000</td>\n",
       "      <td>75.0000</td>\n",
       "      <td>32.0000</td>\n",
       "      <td>60.3000</td>\n",
       "      <td>40.3000</td>\n",
       "      <td>12.8000</td>\n",
       "      <td>22.0000</td>\n",
       "      <td>25.0000</td>\n",
       "    </tr>\n",
       "    <tr>\n",
       "      <th>25%</th>\n",
       "      <td>26.8000</td>\n",
       "      <td>1.0000</td>\n",
       "      <td>2.8000</td>\n",
       "      <td>90.7000</td>\n",
       "      <td>55.0000</td>\n",
       "      <td>84.0000</td>\n",
       "      <td>35.9000</td>\n",
       "      <td>64.6000</td>\n",
       "      <td>44.8000</td>\n",
       "      <td>14.4000</td>\n",
       "      <td>25.5000</td>\n",
       "      <td>31.0000</td>\n",
       "    </tr>\n",
       "    <tr>\n",
       "      <th>50%</th>\n",
       "      <td>52.5000</td>\n",
       "      <td>3.0000</td>\n",
       "      <td>3.0000</td>\n",
       "      <td>92.8000</td>\n",
       "      <td>56.4000</td>\n",
       "      <td>88.0000</td>\n",
       "      <td>37.0000</td>\n",
       "      <td>68.1000</td>\n",
       "      <td>46.8000</td>\n",
       "      <td>14.9000</td>\n",
       "      <td>27.0000</td>\n",
       "      <td>32.5000</td>\n",
       "    </tr>\n",
       "    <tr>\n",
       "      <th>75%</th>\n",
       "      <td>78.2000</td>\n",
       "      <td>6.0000</td>\n",
       "      <td>5.0000</td>\n",
       "      <td>94.7000</td>\n",
       "      <td>58.1000</td>\n",
       "      <td>90.0000</td>\n",
       "      <td>38.0000</td>\n",
       "      <td>72.6000</td>\n",
       "      <td>52.0000</td>\n",
       "      <td>15.7000</td>\n",
       "      <td>28.0000</td>\n",
       "      <td>34.1000</td>\n",
       "    </tr>\n",
       "    <tr>\n",
       "      <th>max</th>\n",
       "      <td>104.0000</td>\n",
       "      <td>7.0000</td>\n",
       "      <td>9.0000</td>\n",
       "      <td>103.1000</td>\n",
       "      <td>68.6000</td>\n",
       "      <td>96.5000</td>\n",
       "      <td>43.0000</td>\n",
       "      <td>77.9000</td>\n",
       "      <td>56.2000</td>\n",
       "      <td>17.8000</td>\n",
       "      <td>32.0000</td>\n",
       "      <td>40.0000</td>\n",
       "    </tr>\n",
       "  </tbody>\n",
       "</table>\n",
       "</div>"
      ],
      "text/plain": [
       "          case     site      age  hdlngth   skullw  totlngth    taill  \\\n",
       "count 104.0000 104.0000 104.0000 104.0000 104.0000  104.0000 104.0000   \n",
       "mean   52.5000   3.6000   3.8000  92.6000  56.9000   87.1000  37.0000   \n",
       "std    30.2000   2.3000   1.9000   3.6000   3.1000    4.3000   2.0000   \n",
       "min     1.0000   1.0000   1.0000  82.5000  50.0000   75.0000  32.0000   \n",
       "25%    26.8000   1.0000   2.8000  90.7000  55.0000   84.0000  35.9000   \n",
       "50%    52.5000   3.0000   3.0000  92.8000  56.4000   88.0000  37.0000   \n",
       "75%    78.2000   6.0000   5.0000  94.7000  58.1000   90.0000  38.0000   \n",
       "max   104.0000   7.0000   9.0000 103.1000  68.6000   96.5000  43.0000   \n",
       "\n",
       "       footlgth  earconch      eye    chest    belly  \n",
       "count  104.0000  104.0000 104.0000 104.0000 104.0000  \n",
       "mean    68.5000   48.1000  15.0000  27.0000  32.6000  \n",
       "std      4.4000    4.1000   1.1000   2.0000   2.8000  \n",
       "min     60.3000   40.3000  12.8000  22.0000  25.0000  \n",
       "25%     64.6000   44.8000  14.4000  25.5000  31.0000  \n",
       "50%     68.1000   46.8000  14.9000  27.0000  32.5000  \n",
       "75%     72.6000   52.0000  15.7000  28.0000  34.1000  \n",
       "max     77.9000   56.2000  17.8000  32.0000  40.0000  "
      ]
     },
     "execution_count": 228,
     "metadata": {},
     "output_type": "execute_result"
    }
   ],
   "source": [
    "possium.describe().round(1)"
   ]
  },
  {
   "cell_type": "code",
   "execution_count": 229,
   "id": "165a0aa5",
   "metadata": {},
   "outputs": [
    {
     "data": {
      "text/html": [
       "<div>\n",
       "<style scoped>\n",
       "    .dataframe tbody tr th:only-of-type {\n",
       "        vertical-align: middle;\n",
       "    }\n",
       "\n",
       "    .dataframe tbody tr th {\n",
       "        vertical-align: top;\n",
       "    }\n",
       "\n",
       "    .dataframe thead th {\n",
       "        text-align: right;\n",
       "    }\n",
       "</style>\n",
       "<table border=\"1\" class=\"dataframe\">\n",
       "  <thead>\n",
       "    <tr style=\"text-align: right;\">\n",
       "      <th></th>\n",
       "      <th>count</th>\n",
       "      <th>mean</th>\n",
       "      <th>std</th>\n",
       "      <th>min</th>\n",
       "      <th>25%</th>\n",
       "      <th>50%</th>\n",
       "      <th>75%</th>\n",
       "      <th>max</th>\n",
       "    </tr>\n",
       "    <tr>\n",
       "      <th>sex</th>\n",
       "      <th></th>\n",
       "      <th></th>\n",
       "      <th></th>\n",
       "      <th></th>\n",
       "      <th></th>\n",
       "      <th></th>\n",
       "      <th></th>\n",
       "      <th></th>\n",
       "    </tr>\n",
       "  </thead>\n",
       "  <tbody>\n",
       "    <tr>\n",
       "      <th>f</th>\n",
       "      <td>43.0000</td>\n",
       "      <td>92.1500</td>\n",
       "      <td>2.5700</td>\n",
       "      <td>84.7000</td>\n",
       "      <td>90.7500</td>\n",
       "      <td>92.5000</td>\n",
       "      <td>93.8000</td>\n",
       "      <td>96.9000</td>\n",
       "    </tr>\n",
       "    <tr>\n",
       "      <th>m</th>\n",
       "      <td>61.0000</td>\n",
       "      <td>92.9200</td>\n",
       "      <td>4.1300</td>\n",
       "      <td>82.5000</td>\n",
       "      <td>90.7000</td>\n",
       "      <td>93.2000</td>\n",
       "      <td>95.4000</td>\n",
       "      <td>103.1000</td>\n",
       "    </tr>\n",
       "  </tbody>\n",
       "</table>\n",
       "</div>"
      ],
      "text/plain": [
       "      count    mean    std     min     25%     50%     75%      max\n",
       "sex                                                                \n",
       "f   43.0000 92.1500 2.5700 84.7000 90.7500 92.5000 93.8000  96.9000\n",
       "m   61.0000 92.9200 4.1300 82.5000 90.7000 93.2000 95.4000 103.1000"
      ]
     },
     "execution_count": 229,
     "metadata": {},
     "output_type": "execute_result"
    }
   ],
   "source": [
    "possium.groupby('sex')['hdlngth'].describe().round(2)"
   ]
  },
  {
   "cell_type": "code",
   "execution_count": 262,
   "id": "b2c455bb",
   "metadata": {},
   "outputs": [
    {
     "name": "stdout",
     "output_type": "stream",
     "text": [
      "\n",
      " MY ANALYSIS\n",
      "\n",
      "Toal number of f gender in this data are 43\n",
      "  For Hand Length:\n",
      "    Mean: 92.15\n",
      "    Median: 92.5\n",
      "    Variance: 6.6\n",
      "    Standard Deviation: 2.6\n",
      "    Coefficient of Variation (CV): 0.03\n",
      "    Relative Spread (% of mean): 3 %\n",
      "  For Foot Length:\n",
      "    Mean: 69.3\n",
      "    Median: 70.6\n",
      "    Variance: 24.5\n",
      "    Standard Deviation: 4.9\n",
      "    Coefficient of Variation (CV): 0.07\n",
      "    Relative Spread (% of mean): 7 %\n",
      "  For Tail:\n",
      "    Mean: 37.1\n",
      "    Median: 37.5\n",
      "    Variance: 3.4\n",
      "    Standard Deviation: 1.8\n",
      "    Coefficient of Variation (CV): 0.05\n",
      "    Relative Spread (% of mean): 5 %\n",
      "\n",
      "Toal number of m gender in this data are 61\n",
      "  For Hand Length:\n",
      "    Mean: 92.92\n",
      "    Median: 93.2\n",
      "    Variance: 17.0\n",
      "    Standard Deviation: 4.1\n",
      "    Coefficient of Variation (CV): 0.04\n",
      "    Relative Spread (% of mean): 4 %\n",
      "  For Foot Length:\n",
      "    Mean: 68.0\n",
      "    Median: 66.9\n",
      "    Variance: 15.9\n",
      "    Standard Deviation: 4.0\n",
      "    Coefficient of Variation (CV): 0.06\n",
      "    Relative Spread (% of mean): 6 %\n",
      "  For Tail:\n",
      "    Mean: 36.9\n",
      "    Median: 36.5\n",
      "    Variance: 4.2\n",
      "    Standard Deviation: 2.1\n",
      "    Coefficient of Variation (CV): 0.06\n",
      "    Relative Spread (% of mean): 6 %\n"
     ]
    }
   ],
   "source": [
    "\n",
    "print(\"\\n MY ANALYSIS\")\n",
    "for gender in ['f', 'm']:\n",
    "    gender_data = possium[possium['sex'] == gender]\n",
    "\n",
    "    print(f\"\\nToal number of {gender} gender in this data are {len(gender_data)}\")\n",
    "\n",
    "    print(\"  For Hand Length:\")\n",
    "    print(f\"    Mean: {gender_data['hdlngth'].mean().round(2)}\")\n",
    "    print(f\"    Median: {gender_data['hdlngth'].median():.1f}\")\n",
    "    print(f\"    Variance: {gender_data['hdlngth'].var():.1f}\")\n",
    "    print(f\"    Standard Deviation: {gender_data['hdlngth'].std():.1f}\")\n",
    "\n",
    "    cv = gender_data['hdlngth'].std() / gender_data['hdlngth'].mean()\n",
    "    cv_percent= cv *100\n",
    "    print(\"    Coefficient of Variation (CV):\", cv.round(2))\n",
    "    print(\"    Relative Spread (% of mean):\", round(cv_percent),\"%\")\n",
    "\n",
    "\n",
    "    print(\"  For Foot Length:\")\n",
    "    print(f\"    Mean: {gender_data['footlgth'].mean():.1f}\")\n",
    "    print(f\"    Median: {gender_data['footlgth'].median():.1f}\")\n",
    "    print(f\"    Variance: {gender_data['footlgth'].var():.1f}\")\n",
    "    print(f\"    Standard Deviation: {gender_data['footlgth'].std():.1f}\")\n",
    "    cv = gender_data['footlgth'].std() / gender_data['footlgth'].mean()\n",
    "    cv_percent= cv *100\n",
    "    print(\"    Coefficient of Variation (CV):\", cv.round(2))\n",
    "    print(\"    Relative Spread (% of mean):\", round(cv_percent),\"%\")\n",
    "  \n",
    "\n",
    "       \n",
    "    print(\"  For Tail:\")\n",
    "    print(f\"    Mean: {gender_data['taill'].mean():.1f}\")\n",
    "    print(f\"    Median: {gender_data['taill'].median():.1f}\")\n",
    "    print(f\"    Variance: {gender_data['taill'].var():.1f}\")\n",
    "    print(f\"    Standard Deviation: {gender_data['taill'].std():.1f}\")\n",
    "    cv = gender_data['taill'].std() / gender_data['taill'].mean()\n",
    "    cv_percent= cv *100\n",
    "    print(\"    Coefficient of Variation (CV):\", cv.round(2))\n",
    "    print(\"    Relative Spread (% of mean):\", round(cv_percent),\"%\")\n",
    "    \n",
    "\n",
    "    "
   ]
  },
  {
   "cell_type": "markdown",
   "id": "c80c1c3c",
   "metadata": {},
   "source": [
    "**FOR HEAD LENGTH**\n",
    "\n",
    "| Metric      | FEMALE | MALE |\n",
    "|-------------|--------|-------------|\n",
    "| **Average** | 92.15 mm| 92.92 mm| \n",
    "| **Median**  | 92.5  mm| 93.2  mm| \n",
    "| **Variance**| 6.6   mm| 1.7  mm | \n",
    "| **Standard Deviation** | 2.6   mm|  4.1  mm| \n",
    "| **Co-efficient of Variation**| 0.03   | 0.04 | \n",
    "| **Relative Spread** | 3%  |  4%| "
   ]
  },
  {
   "cell_type": "markdown",
   "id": "fac44594",
   "metadata": {},
   "source": []
  },
  {
   "cell_type": "markdown",
   "id": "b1599f68",
   "metadata": {},
   "source": [
    "**FOR FOOT LENGTH**\n",
    "\n",
    "| Metric      | FEMALE | MALE | \n",
    "|-------------|-------------|----------|\n",
    "| **Average** | 69.1 mm| 68.0 mm||\n",
    "| **Median**  | 70.4 mm| 66.9 mm||\n",
    "| **Variance**| 24.5 mm| 15.9 mm||\n",
    "| **Std Dev** | 4.9  mm|  4.0 mm||\n",
    "| **Co-efficient of Variation**| 0.07   | 0.06 | \n",
    "| **Relative Spread** | 7%  |  6%|\n"
   ]
  },
  {
   "cell_type": "markdown",
   "id": "41a93a95",
   "metadata": {},
   "source": [
    "**FOR TAIL**\n",
    "\n",
    "| Metric      | FEMALE | MALE |      \n",
    "|-------------|-------------|-------------|\n",
    "| **Average** | 37.1 cm| 36.9 cm||\n",
    "| **Median**  | 37.5 cm| 36.5 cm||\n",
    "| **Variance**| 3.4 cm| 4.2 cm||\n",
    "| **Std Dev** | 1.8  cm|  2.1 cm||\n",
    "| **Co-efficient of Variation**| 0.05   | 0.06 | \n",
    "| **Relative Spread** | 5%  |  6%|"
   ]
  },
  {
   "cell_type": "markdown",
   "id": "8385f2aa",
   "metadata": {},
   "source": [
    "#### **percentiles, interquartile range (IQR), and outlier detection**"
   ]
  },
  {
   "cell_type": "code",
   "execution_count": null,
   "id": "7d0b7014",
   "metadata": {},
   "outputs": [
    {
     "name": "stdout",
     "output_type": "stream",
     "text": [
      "Q1 - 90.675\n",
      "Q2 - 92.8\n",
      "Q3 - 94.725\n"
     ]
    }
   ],
   "source": [
    "### Head Length Percentile \n",
    "head_length_values = possium['hdlngth'].values\n",
    "\n",
    "# Quartiles using Quantile\n",
    "q1 = np.quantile(head_length_values, 0.25)\n",
    "q2 = np.quantile(head_length_values, 0.50)\n",
    "q3 = np.quantile(head_length_values, 0.75)\n",
    "\n",
    "print(f\"Q1 - {q1}\")\n",
    "print(f\"Q2 - {q2}\")\n",
    "print(f\"Q3 - {q3}\")"
   ]
  },
  {
   "cell_type": "code",
   "execution_count": 270,
   "id": "cf091cd5",
   "metadata": {},
   "outputs": [
    {
     "name": "stdout",
     "output_type": "stream",
     "text": [
      "Q1 - 64.65\n",
      "Q2 - 68.1\n",
      "Q3 - 72.55\n"
     ]
    }
   ],
   "source": [
    "### Foot Length Percentile \n",
    "foot_length_values = possium['footlgth'].values\n",
    "\n",
    "# Quartiles using Quantile\n",
    "q1 = np.quantile(foot_length_values, 0.25)\n",
    "q2 = np.quantile(foot_length_values, 0.50)\n",
    "q3 = np.quantile(foot_length_values, 0.75)\n",
    "\n",
    "print(f\"Q1 - {q1}\")\n",
    "print(f\"Q2 - {q2}\")\n",
    "print(f\"Q3 - {q3}\")"
   ]
  },
  {
   "cell_type": "code",
   "execution_count": 271,
   "id": "a44a703f",
   "metadata": {},
   "outputs": [
    {
     "name": "stdout",
     "output_type": "stream",
     "text": [
      "Q1 - 35.875\n",
      "Q2 - 37.0\n",
      "Q3 - 38.0\n"
     ]
    }
   ],
   "source": [
    "### Tail Percentile \n",
    "tail_values = possium['taill'].values\n",
    "\n",
    "# Quartiles using Quantile\n",
    "q1 = np.quantile(tail_values, 0.25)\n",
    "q2 = np.quantile(tail_values, 0.50)\n",
    "q3 = np.quantile(tail_values, 0.75)\n",
    "\n",
    "print(f\"Q1 - {q1}\")\n",
    "print(f\"Q2 - {q2}\")\n",
    "print(f\"Q3 - {q3}\")"
   ]
  },
  {
   "cell_type": "markdown",
   "id": "f865953e",
   "metadata": {},
   "source": [
    "#### Interquartile Range\n"
   ]
  },
  {
   "cell_type": "code",
   "execution_count": 272,
   "id": "0a8ac25f",
   "metadata": {},
   "outputs": [
    {
     "name": "stdout",
     "output_type": "stream",
     "text": [
      "IQR - 2.125\n",
      "Lower Bound - 32.6875\n",
      "Upper Bound - 41.1875\n"
     ]
    }
   ],
   "source": [
    "iqr = q3 - q1\n",
    "print(f\"IQR - {iqr}\")\n",
    "\n",
    "# Outlier thresholds (Tukey’s rule)\n",
    "lower_bound = q1 - 1.5 * iqr\n",
    "upper_bound = q3 + 1.5 * iqr\n",
    "\n",
    "print(f\"Lower Bound - {lower_bound}\")\n",
    "print(f\"Upper Bound - {upper_bound}\")"
   ]
  },
  {
   "cell_type": "code",
   "execution_count": 274,
   "id": "e5e8514d",
   "metadata": {},
   "outputs": [
    {
     "name": "stdout",
     "output_type": "stream",
     "text": [
      "List of outlier scores --> [ 94.1  92.5  94.   93.2  91.5  93.1  95.3  94.8  93.4  91.8  93.3  94.9\n",
      "  95.1  95.4  92.9  91.6  94.7  93.5  94.4  94.8  95.9  96.3  92.5  94.4\n",
      "  95.8  96.   90.5  93.8  92.8  92.1  92.8  94.3  91.4  90.6  94.4  93.3\n",
      "  89.3  92.4  84.7  91.   88.4  85.3  90.   85.1  90.7  91.4  90.1  98.6\n",
      "  95.4  91.6  95.6  97.6  93.1  96.9 103.1  99.9  95.1  94.5 102.5  91.3\n",
      "  95.7  91.3  92.   96.9  93.5  90.4  93.3  94.1  98.   91.9  92.8  85.9\n",
      "  82.5  88.7  93.8  92.4  93.6  86.5  85.8  86.7  90.6  86.   90.   88.4\n",
      "  89.5  88.2  98.5  89.6  97.7  92.6  97.8  90.7  89.2  91.8  91.6  94.8\n",
      "  91.   93.2  93.3  89.5  88.6  92.4  91.5  93.6]\n"
     ]
    }
   ],
   "source": [
    "# Detect outliers\n",
    "outliers = head_length_values[(head_length_values < lower_bound) | (head_length_values > upper_bound)]\n",
    "print(f\"List of outlier scores --> {outliers}\")"
   ]
  }
 ],
 "metadata": {
  "kernelspec": {
   "display_name": "task",
   "language": "python",
   "name": "python3"
  },
  "language_info": {
   "codemirror_mode": {
    "name": "ipython",
    "version": 3
   },
   "file_extension": ".py",
   "mimetype": "text/x-python",
   "name": "python",
   "nbconvert_exporter": "python",
   "pygments_lexer": "ipython3",
   "version": "3.13.7"
  }
 },
 "nbformat": 4,
 "nbformat_minor": 5
}
