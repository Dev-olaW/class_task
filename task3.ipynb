{
 "cells": [
  {
   "cell_type": "markdown",
   "id": "b6df0c35",
   "metadata": {},
   "source": [
    "# QUESTUON A"
   ]
  },
  {
   "cell_type": "markdown",
   "id": "dadab2b0",
   "metadata": {},
   "source": [
    "### Question One"
   ]
  },
  {
   "cell_type": "markdown",
   "id": "70d1249f",
   "metadata": {},
   "source": [
    "\n",
    "$$\n",
    "A = \\begin{bmatrix}\n",
    "2 & -1 \\\\\n",
    "0 & 3\n",
    "\\end{bmatrix}\n",
    "$$\n",
    "\n",
    "$$\n",
    "B = \\begin{bmatrix}\n",
    "1 & 4 \\\\\n",
    "-2 & 5\n",
    "\\end{bmatrix}\n",
    "$$\n",
    "\n",
    "\n",
    "let's the scalers (c = 2), (d = 3)"
   ]
  },
  {
   "cell_type": "markdown",
   "id": "cbbc1220",
   "metadata": {},
   "source": [
    "### \n",
    "a. Compute the following: (cA), (dB), and (c + d)A"
   ]
  },
  {
   "cell_type": "markdown",
   "id": "34217c92",
   "metadata": {},
   "source": [
    "###  c(A)\n",
    "<br>\n",
    "c = 2 \n",
    "\n",
    "$$\n",
    " A =\\begin{bmatrix}\n",
    "2 & -1 \\\\\n",
    "0 & 3\n",
    "\\end{bmatrix}\n",
    "$$\n",
    "\n"
   ]
  },
  {
   "cell_type": "markdown",
   "id": "d53240d8",
   "metadata": {},
   "source": []
  },
  {
   "cell_type": "markdown",
   "id": "714c36bf",
   "metadata": {},
   "source": [
    "\n",
    "$$\n",
    " c(A) =\\begin{bmatrix}\n",
    "2*2 & 2*-1 \\\\\n",
    "2*0 & 2*3\n",
    "\\end{bmatrix}\n",
    "$$\n",
    "\n",
    "$$\n",
    "= \\begin{bmatrix}\n",
    "4 & -2 \\\\\n",
    "0 & 6\n",
    "\\end{bmatrix}\n",
    "$$"
   ]
  },
  {
   "cell_type": "markdown",
   "id": "20611ce7",
   "metadata": {},
   "source": [
    "#### QUESTION 2"
   ]
  },
  {
   "cell_type": "markdown",
   "id": "7c298bdc",
   "metadata": {},
   "source": [
    " \n",
    "\n",
    "d(B)\n",
    "\n",
    "since d = 3\n",
    "and \n",
    "$$\n",
    "B =\\begin{bmatrix}\n",
    "1 & 4 \\\\\n",
    "-2 & 5\n",
    "\\end{bmatrix}\n",
    "$$"
   ]
  },
  {
   "cell_type": "markdown",
   "id": "45628b57",
   "metadata": {},
   "source": [
    "$$\n",
    "d(B) = \\begin{bmatrix}\n",
    "3*1 & 3*4 \\\\\n",
    "3*-2 & 3*5\n",
    "\\end{bmatrix}\n",
    "$$\n",
    "\n",
    "$$\n",
    "= \\begin{bmatrix}\n",
    "3 & 12 \\\\\n",
    "-6 & 15\n",
    "\\end{bmatrix}\n",
    "$$"
   ]
  },
  {
   "cell_type": "markdown",
   "id": "14973b2f",
   "metadata": {},
   "source": [
    "1c.        (c + d)A\n",
    "                c = 2  d = 3\n",
    "                c + d = 5\n",
    "                5(A)\n",
    "$$\n",
    "A = \\begin{bmatrix}\n",
    "2 & -1 \\\\\n",
    "0 & 3\n",
    "\\end{bmatrix}\n",
    "$$\n",
    "$$\n",
    "5(A) = \\begin{bmatrix}\n",
    "(5*2) & (5*-1) \\\\\n",
    "(5*0) & (5*3)\n",
    "\\end{bmatrix}\n",
    "$$\n",
    " $$\n",
    "(c + d)(A) = \\begin{bmatrix}\n",
    "10 & -5 \\\\\n",
    "0 & 15\n",
    "\\end{bmatrix}\n",
    "$$"
   ]
  },
  {
   "cell_type": "markdown",
   "id": "e061bca1",
   "metadata": {},
   "source": [
    "## QUESTION B"
   ]
  },
  {
   "cell_type": "markdown",
   "id": "4dd1f9aa",
   "metadata": {},
   "source": [
    "$$\n",
    "(c + d)(A) = (2 + 3) * \\begin{bmatrix}\n",
    "2 & -1 \\\\\n",
    "0 & 3\n",
    "\\end{bmatrix}\n",
    "$$\n",
    "\n",
    "#### verify for scaler multiplication\n",
    "(c + d)A = cA + dA\n",
    "\n",
    "since:\n",
    "$$\n",
    " c(A) =\\begin{bmatrix}\n",
    "4 & -2 \\\\\n",
    "0 & 6\n",
    "\\end{bmatrix}\n",
    "$$\n",
    "\n",
    "$$\n",
    "d(A) = \\begin{bmatrix}\n",
    "3*2 & 3*-1 \\\\\n",
    "3*0 & 3 *3\n",
    "\\end{bmatrix}\n",
    "$$\n",
    "\n",
    "Therefore: \n",
    "$$\n",
    "d(A) = \\begin{bmatrix}\n",
    "6 & -3 \\\\\n",
    "0 & 9\n",
    "\\end{bmatrix}\n",
    "$$\n",
    "\n",
    "$$\n",
    "c(A) + d(A) = \\begin{bmatrix}\n",
    "4 + 6 & -2 +-3 \\\\\n",
    "0 + 0 & 6 + 9\n",
    "\\end{bmatrix}\n",
    "$$\n",
    "\n",
    "$$\n",
    "c(A) + d(A) = \\begin{bmatrix}\n",
    "10 & -5 \\\\\n",
    "0 & 15\n",
    "\\end{bmatrix}\n",
    "$$\n"
   ]
  },
  {
   "cell_type": "markdown",
   "id": "c0000f45",
   "metadata": {},
   "source": []
  },
  {
   "cell_type": "markdown",
   "id": "50dbf1fd",
   "metadata": {},
   "source": [
    "## QUESTION C"
   ]
  },
  {
   "cell_type": "markdown",
   "id": "c2d61cee",
   "metadata": {},
   "source": [
    "## !. Transpos of A\n",
    "\n",
    "$$\n",
    " A^T=\\begin{bmatrix}\n",
    "2 & 0 \\\\\n",
    "-1 & 3\n",
    "\\end{bmatrix}\n",
    "$$"
   ]
  }
 ],
 "metadata": {
  "language_info": {
   "name": "python"
  }
 },
 "nbformat": 4,
 "nbformat_minor": 5
}
