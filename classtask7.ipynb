{
 "cells": [
  {
   "cell_type": "markdown",
   "id": "a5fe7715",
   "metadata": {},
   "source": [
    "### CLASS TASK 3\n"
   ]
  },
  {
   "cell_type": "markdown",
   "id": "651a9a38",
   "metadata": {},
   "source": [
    "Given:(4, 8, 6, 5, 3), find the variance.\n",
    "\n",
    "$$\n",
    "Mean (\\mu)= \\frac{1}{n}\\sum^n_{i = 1}{x_i}\n",
    "$$\n",
    "\n",
    "$$\n",
    "Mean (\\mu)= \\frac{4+8+6+5+3}{5} =  \\frac{26}{5}\n",
    "$$\n",
    "\n",
    "$$\n",
    "Mean (\\mu)= 5.2\n",
    "$$\n",
    "\n",
    "$$\n",
    "Variance (\\sigma^2) = \\frac{1}{N} \\sum_{i=1}^N (x_i - \\mu)^2\n",
    "$$\n",
    "\n",
    "$$\n",
    "Variance (\\sigma^2) = \\frac{1}{5} \\left[(4 - 5.2)^2 + (8 - 5.2)^2 + (5 - 5.2)^2 + (3 - 5.2)^2\\right]\n",
    "\n",
    "$$\n",
    "\n",
    "$$\n",
    "\\sigma^2 = \\frac{14.8}{5}\n",
    "$$\n",
    "\n",
    "$$\n",
    "Variance (\\sigma^2) = 2.96\n",
    "$$\n"
   ]
  }
 ],
 "metadata": {
  "language_info": {
   "name": "python"
  }
 },
 "nbformat": 4,
 "nbformat_minor": 5
}
