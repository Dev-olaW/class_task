{
 "cells": [
  {
   "cell_type": "markdown",
   "id": "2b4b6a2f",
   "metadata": {},
   "source": [
    "### Question 1\n",
    "Class Test Scores\n",
    "\n",
    "Mathematics test scores(out of 20) = 5, 8, 10, 12, 12, 12, 13, 14, 14, 15, 16, 18, 18, 20, 20\n",
    "\n",
    "\n",
    "\n",
    "\n",
    "\n"
   ]
  },
  {
   "cell_type": "markdown",
   "id": "8f677167",
   "metadata": {},
   "source": [
    "##### a. Find the mean\n",
    "Mean = (5 + 8 + 10 + 12 + 12 + 12 + 13 + 14 + 14 + 15 + 16 + 18 + 18 + 20 + 20) / 15\n",
    "\n",
    "Mean = 207/15\n",
    "\n",
    "Mean = 13.8"
   ]
  },
  {
   "cell_type": "markdown",
   "id": "2f9119cf",
   "metadata": {},
   "source": [
    "##### b. Median\n",
    "Mathematics test scores(out of 20) = 5, 8, 10, 12, 12, 12, 13, 14, 14, 15, 16, 18, 18, 20, 20\n",
    "\n",
    "Median is the middle value = 14"
   ]
  },
  {
   "cell_type": "markdown",
   "id": "97a9a03c",
   "metadata": {},
   "source": [
    "#### c. Mode\n",
    "Mathematics test scores(out of 20) = 5, 8, 10, 12, 12, 12, 13, 14, 14, 15, 16, 18, 18, 20, 20.\n",
    "\n",
    "\n",
    "Mode is the value that apperas most frequently = 12"
   ]
  },
  {
   "cell_type": "markdown",
   "id": "a8234d0c",
   "metadata": {},
   "source": [
    "#### b. If the lowest score (5) was wrongly recorded and should have been 10, how would the mean change? Would the median or mode change? Explain.\n",
    "\n",
    "if the lowest score was wrongly recoreded, the mathematics test score will be:\n",
    "\n",
    "updated mathematics test score =  8, 10, 10, 12, 12, 12, 13, 14, 14, 15, 16, 18, 18, 20, 20.\n",
    "\n",
    "Therefore, Mean = (8 + 10 + 10 + 12 + 12 + 12 + 13 + 14 + 14 + 15 + 16 + 18 + 18 + 20 + 20) / 15\n",
    "\n",
    "Mean = 212/15\n",
    "\n",
    "Mean = 14.13.\n",
    "\n",
    "Median and Mode still remain the same. There's no changes because the position of the previous test score stilll remain the same, therefore it does not affect the median. Also, the value that appears most frequently in the new dataset is still 12, the mode remain the same.\n"
   ]
  },
  {
   "cell_type": "markdown",
   "id": "6aa3fc78",
   "metadata": {},
   "source": [
    "### Question 2\n",
    "Daily Commute Times\n",
    "\n",
    "Time (in minutes) = 15, 20, 20, 25, 25, 30, 60, 65, 120"
   ]
  },
  {
   "cell_type": "markdown",
   "id": "ea33020c",
   "metadata": {},
   "source": [
    "##### a. Mean\n",
    "Mean = (15 + 20 + 20 + 25 + 25 + 30 + 60 + 65 + 120)/ 9\n",
    "\n",
    "Mean = 380/9\n",
    "\n",
    "Mean = 42.222"
   ]
  },
  {
   "cell_type": "markdown",
   "id": "0481eb34",
   "metadata": {},
   "source": [
    "#### b. Median\n",
    "Time ( in minutes) = 15, 20, 20, 25, 25, 30, 60, 65, 120\n",
    "\n",
    "Median is the middle value = 25"
   ]
  },
  {
   "cell_type": "markdown",
   "id": "190e6235",
   "metadata": {},
   "source": [
    "#### c. Mode\n",
    "The value that appears most frequently are: 20 and 25. It's bimodal\n"
   ]
  },
  {
   "cell_type": "markdown",
   "id": "39671d7e",
   "metadata": {},
   "source": [
    "#### Which measure (mean, median, or mode) do you think best represents the “typical” time it takes students to get to school? Why?\n",
    "\n",
    "Median is the best option to represent the 'typical' time it takes the students to get to school because the time contains an outllier (120). The median is not affected by outliers."
   ]
  },
  {
   "cell_type": "markdown",
   "id": "83532cf3",
   "metadata": {},
   "source": [
    "### Question 3\n",
    "Shoe Sizes\n",
    "\n",
    "shoe sizes =  38, 39, 38, 40, 41, 42, 39, 39, 40, 38, 37, 39, 40, 41, 42\n"
   ]
  },
  {
   "cell_type": "markdown",
   "id": "fe6e904a",
   "metadata": {},
   "source": [
    "### 1. Mode\n",
    "\n",
    "By re-arranging the dataset,\n",
    "\n",
    "shoe size = 37, 38, 38, 38, 39, 39, 39, 39, 40, 40, 40, 41, 41, 42, 42.\n",
    "\n",
    "Mode is the value that apperas most frequently = 39\n",
    "\n"
   ]
  },
  {
   "cell_type": "markdown",
   "id": "2b4c68c9",
   "metadata": {},
   "source": [
    "2. #### If a shoe company wants to donate free shoes, which size should they produce most of? Why?\n",
    "The shoe company should produce size 39 mostly because it apeears that most student shoe sizes were 39.\n",
    "\n"
   ]
  },
  {
   "cell_type": "markdown",
   "id": "672cf17c",
   "metadata": {},
   "source": [
    "##### 3. What if they only want to produce one size that would fit the \"average\" student? Should they use mean, median, or mode? Defend your answer.\n",
    "\n",
    "\n",
    "The shoe company should use the mean to produce the 'one size' that would fit the average studemt. Thos is because, the mean will help the company to calculate the average mean for the student\n"
   ]
  }
 ],
 "metadata": {
  "language_info": {
   "name": "python"
  }
 },
 "nbformat": 4,
 "nbformat_minor": 5
}
