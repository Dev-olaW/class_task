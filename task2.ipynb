{
 "cells": [
  {
   "cell_type": "markdown",
   "id": "a1f96e64",
   "metadata": {},
   "source": [
    "## CLASS TASK 2"
   ]
  },
  {
   "cell_type": "markdown",
   "id": "a5b128e5",
   "metadata": {},
   "source": [
    "### \n",
    "a. \n",
    "Matrix A = 2 x 3 matrix\n",
    "\n",
    "    Matrix B = 3 x 2 matrix\n",
    "\n",
    "\n",
    "\n",
    "\n"
   ]
  },
  {
   "cell_type": "code",
   "execution_count": null,
   "id": "c320dfd0",
   "metadata": {},
   "outputs": [],
   "source": [
    "### \n",
    "b.\n",
    "Yeah, the matrixes can be multiplied because matrix A has 3 - columns and matrix B has 3 - rows. \n",
    "Since both matrixes has the same number of columns and rows, it can be multiplied.\n",
    "Also, on the other way, both matrix has 2 - rows and 2 - columns. It can be multiplied.\n",
    "\n"
   ]
  },
  {
   "cell_type": "code",
   "execution_count": 1,
   "id": "774e5fdf",
   "metadata": {},
   "outputs": [
    {
     "data": {
      "text/plain": [
       "array([[ 2, -1,  3],\n",
       "       [ 0,  4,  1]])"
      ]
     },
     "execution_count": 1,
     "metadata": {},
     "output_type": "execute_result"
    }
   ],
   "source": [
    "import numpy as np\n",
    "matrix_A = np.array([[2, -1, 3], [0, 4, 1]])\n",
    "matrix_A"
   ]
  },
  {
   "cell_type": "code",
   "execution_count": 5,
   "id": "0a5e2403",
   "metadata": {},
   "outputs": [
    {
     "data": {
      "text/plain": [
       "array([[ 1,  2],\n",
       "       [-2,  0],\n",
       "       [ 5, -3]])"
      ]
     },
     "execution_count": 5,
     "metadata": {},
     "output_type": "execute_result"
    }
   ],
   "source": [
    "matrix_B = np.array([[1, 2], [-2, 0], [5, -3]])\n",
    "matrix_B"
   ]
  },
  {
   "cell_type": "code",
   "execution_count": 6,
   "id": "2723e0fc",
   "metadata": {},
   "outputs": [
    {
     "data": {
      "text/plain": [
       "array([[19, -5],\n",
       "       [-3, -3]])"
      ]
     },
     "execution_count": 6,
     "metadata": {},
     "output_type": "execute_result"
    }
   ],
   "source": [
    "Multiply = matrix_A @ matrix_B\n",
    "Multiply"
   ]
  },
  {
   "cell_type": "markdown",
   "id": "e8046f90",
   "metadata": {},
   "source": [
    "### Inverse both Matrix"
   ]
  },
  {
   "cell_type": "code",
   "execution_count": 7,
   "id": "53a9c18e",
   "metadata": {},
   "outputs": [
    {
     "data": {
      "text/plain": [
       "array([[  2,   7,   5],\n",
       "       [ -4,   2,  -6],\n",
       "       [ 10, -17,  12]])"
      ]
     },
     "execution_count": 7,
     "metadata": {},
     "output_type": "execute_result"
    }
   ],
   "source": [
    "Multiply_inverse = matrix_B @ matrix_A\n",
    "Multiply_inverse"
   ]
  },
  {
   "cell_type": "markdown",
   "id": "51bcfb1b",
   "metadata": {},
   "source": []
  }
 ],
 "metadata": {
  "kernelspec": {
   "display_name": "task",
   "language": "python",
   "name": "python3"
  },
  "language_info": {
   "codemirror_mode": {
    "name": "ipython",
    "version": 3
   },
   "file_extension": ".py",
   "mimetype": "text/x-python",
   "name": "python",
   "nbconvert_exporter": "python",
   "pygments_lexer": "ipython3",
   "version": "3.13.7"
  }
 },
 "nbformat": 4,
 "nbformat_minor": 5
}
